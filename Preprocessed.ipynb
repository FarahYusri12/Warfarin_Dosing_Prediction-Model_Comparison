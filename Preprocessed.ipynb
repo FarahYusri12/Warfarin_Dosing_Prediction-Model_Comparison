{
  "nbformat": 4,
  "nbformat_minor": 0,
  "metadata": {
    "colab": {
      "provenance": [],
      "authorship_tag": "ABX9TyMDXrrLvNi4h6dpBfusqhg7",
      "include_colab_link": true
    },
    "kernelspec": {
      "name": "python3",
      "display_name": "Python 3"
    },
    "language_info": {
      "name": "python"
    }
  },
  "cells": [
    {
      "cell_type": "markdown",
      "metadata": {
        "id": "view-in-github",
        "colab_type": "text"
      },
      "source": [
        "<a href=\"https://colab.research.google.com/github/FarahYusri12/Warfarin_Dosing_Prediction-Model_Comparison/blob/main/Preprocessed.ipynb\" target=\"_parent\"><img src=\"https://colab.research.google.com/assets/colab-badge.svg\" alt=\"Open In Colab\"/></a>"
      ]
    },
    {
      "cell_type": "markdown",
      "source": [
        "Modify warfarin_gen_clinic.csv into new dataset Preprocessed_data.csv"
      ],
      "metadata": {
        "id": "4agNmPL1Mizv"
      }
    },
    {
      "cell_type": "code",
      "execution_count": 1,
      "metadata": {
        "colab": {
          "base_uri": "https://localhost:8080/"
        },
        "id": "WtDmx48eF1By",
        "outputId": "17e67aea-b8ff-4fba-cc69-ec4260c3131e"
      },
      "outputs": [
        {
          "output_type": "stream",
          "name": "stdout",
          "text": [
            "            ID Age (years)  Gender  Weight (kg)  Height (cm)  Dose (mg)  \\\n",
            "0  PA135312261     60 - 69    Male        115.7       193.04       49.0   \n",
            "1  PA135312262     50 - 59  Female        144.2       176.53       42.0   \n",
            "2  PA135312263     40 - 49  Female         77.1       162.56       53.0   \n",
            "3  PA135312264     60 - 69    Male         90.7       182.24       28.0   \n",
            "4  PA135312265     50 - 59    Male         72.6       167.64       42.0   \n",
            "\n",
            "  CYP2C9 VKORC1 (rs9923231; C/T)  \n",
            "0  *1/*1                     A/G  \n",
            "1  *1/*1                     A/A  \n",
            "2  *1/*1                     G/G  \n",
            "3  *1/*1                     A/G  \n",
            "4  *1/*3                     A/G  \n",
            "\n",
            "====================================================================================================\n",
            "\n",
            "<class 'pandas.core.frame.DataFrame'>\n",
            "RangeIndex: 6161 entries, 0 to 6160\n",
            "Data columns (total 8 columns):\n",
            " #   Column                   Non-Null Count  Dtype  \n",
            "---  ------                   --------------  -----  \n",
            " 0   ID                       5700 non-null   object \n",
            " 1   Age (years)              5658 non-null   object \n",
            " 2   Gender                   5696 non-null   object \n",
            " 3   Weight (kg)              5413 non-null   float64\n",
            " 4   Height (cm)              4554 non-null   float64\n",
            " 5   Dose (mg)                5528 non-null   float64\n",
            " 6   CYP2C9                   5567 non-null   object \n",
            " 7   VKORC1 (rs9923231; C/T)  4046 non-null   object \n",
            "dtypes: float64(3), object(5)\n",
            "memory usage: 385.2+ KB\n",
            "None\n",
            "\n",
            "====================================================================================================\n",
            "\n",
            "['60 - 69' '50 - 59' '40 - 49' '70 - 79' '30 - 39' '80 - 89' '90+'\n",
            " '20 - 29' '10 - 19' nan]\n",
            "\n",
            "====================================================================================================\n",
            "\n",
            "['*1/*1' '*1/*3' '*1/*2' '*2/*2' '*2/*3' '*3/*3' nan '*1/*5' '*1/*13'\n",
            " '*1/*14' '*1/*11' '*1/*6']\n",
            "\n",
            "====================================================================================================\n",
            "\n",
            "['A/G' 'A/A' 'G/G' nan]\n"
          ]
        }
      ],
      "source": [
        "import pandas as pd\n",
        "import numpy as np\n",
        "\n",
        "df=pd.read_csv('Warfarin_gen_clinic.csv')\n",
        "print(df.head())\n",
        "print(\"\\n\" + \"=\"*100 + \"\\n\")\n",
        "print(df.info())\n",
        "print(\"\\n\" + \"=\"*100 + \"\\n\")\n",
        "print(df ['Age (years)']. unique())\n",
        "print (\"\\n\" + \"=\"*100 + \"\\n\")\n",
        "print(df ['CYP2C9']. unique())\n",
        "print(\"\\n\" + \"=\"*100 + \"\\n\")\n",
        "print(df ['VKORC1 (rs9923231; C/T)'].unique())"
      ]
    },
    {
      "cell_type": "code",
      "source": [
        "# Removes duplicates and missing value\n",
        "\n",
        "df.dropna(inplace=True)\n",
        "df.drop_duplicates(inplace=True)\n",
        "df.info()\n",
        "\n"
      ],
      "metadata": {
        "colab": {
          "base_uri": "https://localhost:8080/"
        },
        "id": "C97w1gEFL1pb",
        "outputId": "617ef97d-b83f-487e-b824-d84cc2cb8bfb"
      },
      "execution_count": 2,
      "outputs": [
        {
          "output_type": "stream",
          "name": "stdout",
          "text": [
            "<class 'pandas.core.frame.DataFrame'>\n",
            "Index: 3429 entries, 0 to 5410\n",
            "Data columns (total 8 columns):\n",
            " #   Column                   Non-Null Count  Dtype  \n",
            "---  ------                   --------------  -----  \n",
            " 0   ID                       3429 non-null   object \n",
            " 1   Age (years)              3429 non-null   object \n",
            " 2   Gender                   3429 non-null   object \n",
            " 3   Weight (kg)              3429 non-null   float64\n",
            " 4   Height (cm)              3429 non-null   float64\n",
            " 5   Dose (mg)                3429 non-null   float64\n",
            " 6   CYP2C9                   3429 non-null   object \n",
            " 7   VKORC1 (rs9923231; C/T)  3429 non-null   object \n",
            "dtypes: float64(3), object(5)\n",
            "memory usage: 241.1+ KB\n"
          ]
        }
      ]
    },
    {
      "cell_type": "code",
      "source": [
        "# Encode and make a new column for gender, CYP2C9, and VKORC1\n",
        "\n",
        "df['Gender_code']= df['Gender']. map({\"Male\":1, \"Female\":0})\n",
        "\n",
        "CYP_map={\"*1/*1\":0, \"*1/*2\":1, \"*1/*3\":1, \"*2/*2\":2, \"*2/*3\":2, \"*3/*3\":2}\n",
        "df['CYP2C9_code']= df['CYP2C9'].map(CYP_map)\n",
        "\n",
        "VKO_map= {\"G/G\":0, \"A/G\":1, \"A/A\":2}\n",
        "df['VKORC1_code']= df['VKORC1 (rs9923231; C/T)']. map(VKO_map)\n",
        "\n",
        "# Change age format\n",
        "def Age_midpoint(Age_years):\n",
        "  Age_years=str(Age_years). strip() # strip()= remove space, str()=change to string\n",
        "\n",
        "  if \"-\" in Age_years:\n",
        "    low, high = Age_years.split(\"-\") # exp; (30-39)\n",
        "    return (int(low) + int(high))/2\n",
        "  elif \"+\" in Age_years:\n",
        "    base=int (Age_years.replace(\"+\", \"\")) # exp: 90+\n",
        "    return base\n",
        "df['Age']= df['Age (years)'].apply(Age_midpoint)\n",
        "\n",
        "print(df.head())\n",
        "print(\"\\n\" + \"=\"*100 + \"\\n\")\n",
        "print(df.info())"
      ],
      "metadata": {
        "id": "A4p1-RLpMqHK",
        "colab": {
          "base_uri": "https://localhost:8080/"
        },
        "outputId": "d35fc029-7184-4ad9-9b3f-dd62582d1f2a"
      },
      "execution_count": 3,
      "outputs": [
        {
          "output_type": "stream",
          "name": "stdout",
          "text": [
            "            ID Age (years)  Gender  Weight (kg)  Height (cm)  Dose (mg)  \\\n",
            "0  PA135312261     60 - 69    Male        115.7       193.04       49.0   \n",
            "1  PA135312262     50 - 59  Female        144.2       176.53       42.0   \n",
            "2  PA135312263     40 - 49  Female         77.1       162.56       53.0   \n",
            "3  PA135312264     60 - 69    Male         90.7       182.24       28.0   \n",
            "4  PA135312265     50 - 59    Male         72.6       167.64       42.0   \n",
            "\n",
            "  CYP2C9 VKORC1 (rs9923231; C/T)  Gender_code  CYP2C9_code  VKORC1_code   Age  \n",
            "0  *1/*1                     A/G            1          0.0            1  64.5  \n",
            "1  *1/*1                     A/A            0          0.0            2  54.5  \n",
            "2  *1/*1                     G/G            0          0.0            0  44.5  \n",
            "3  *1/*1                     A/G            1          0.0            1  64.5  \n",
            "4  *1/*3                     A/G            1          1.0            1  54.5  \n",
            "\n",
            "====================================================================================================\n",
            "\n",
            "<class 'pandas.core.frame.DataFrame'>\n",
            "Index: 3429 entries, 0 to 5410\n",
            "Data columns (total 12 columns):\n",
            " #   Column                   Non-Null Count  Dtype  \n",
            "---  ------                   --------------  -----  \n",
            " 0   ID                       3429 non-null   object \n",
            " 1   Age (years)              3429 non-null   object \n",
            " 2   Gender                   3429 non-null   object \n",
            " 3   Weight (kg)              3429 non-null   float64\n",
            " 4   Height (cm)              3429 non-null   float64\n",
            " 5   Dose (mg)                3429 non-null   float64\n",
            " 6   CYP2C9                   3429 non-null   object \n",
            " 7   VKORC1 (rs9923231; C/T)  3429 non-null   object \n",
            " 8   Gender_code              3429 non-null   int64  \n",
            " 9   CYP2C9_code              3419 non-null   float64\n",
            " 10  VKORC1_code              3429 non-null   int64  \n",
            " 11  Age                      3429 non-null   float64\n",
            "dtypes: float64(5), int64(2), object(5)\n",
            "memory usage: 348.3+ KB\n",
            "None\n"
          ]
        }
      ]
    },
    {
      "cell_type": "code",
      "source": [
        "# Remove missing value\n",
        "df.dropna(inplace=True)\n",
        "print(df.info())"
      ],
      "metadata": {
        "colab": {
          "base_uri": "https://localhost:8080/"
        },
        "id": "RT7y4RJha_fd",
        "outputId": "0ef9180e-c21d-41ee-8bf7-f30f846c87b0"
      },
      "execution_count": 4,
      "outputs": [
        {
          "output_type": "stream",
          "name": "stdout",
          "text": [
            "<class 'pandas.core.frame.DataFrame'>\n",
            "Index: 3419 entries, 0 to 5410\n",
            "Data columns (total 12 columns):\n",
            " #   Column                   Non-Null Count  Dtype  \n",
            "---  ------                   --------------  -----  \n",
            " 0   ID                       3419 non-null   object \n",
            " 1   Age (years)              3419 non-null   object \n",
            " 2   Gender                   3419 non-null   object \n",
            " 3   Weight (kg)              3419 non-null   float64\n",
            " 4   Height (cm)              3419 non-null   float64\n",
            " 5   Dose (mg)                3419 non-null   float64\n",
            " 6   CYP2C9                   3419 non-null   object \n",
            " 7   VKORC1 (rs9923231; C/T)  3419 non-null   object \n",
            " 8   Gender_code              3419 non-null   int64  \n",
            " 9   CYP2C9_code              3419 non-null   float64\n",
            " 10  VKORC1_code              3419 non-null   int64  \n",
            " 11  Age                      3419 non-null   float64\n",
            "dtypes: float64(5), int64(2), object(5)\n",
            "memory usage: 347.2+ KB\n",
            "None\n"
          ]
        }
      ]
    },
    {
      "cell_type": "code",
      "source": [
        "#There is something wrong with the datatypes for CYP2C9_code\n",
        "# It should be int not float\n",
        "# Use unique parameter to check value in CYP2C9_code column\n",
        "print(df['CYP2C9_code'].unique())\n"
      ],
      "metadata": {
        "colab": {
          "base_uri": "https://localhost:8080/"
        },
        "id": "smddsy_HboUs",
        "outputId": "00e4e917-3ed4-4df5-8cca-22e208ed1748"
      },
      "execution_count": 5,
      "outputs": [
        {
          "output_type": "stream",
          "name": "stdout",
          "text": [
            "[0. 1. 2.]\n"
          ]
        }
      ]
    },
    {
      "cell_type": "code",
      "source": [
        "# Change format from float to int\n",
        "df['CYP2C9_code']= df['CYP2C9_code'].astype(int)\n",
        "print(df.info())\n",
        "print(df['CYP2C9_code']. unique())"
      ],
      "metadata": {
        "colab": {
          "base_uri": "https://localhost:8080/"
        },
        "id": "WTLXtMk5fDCT",
        "outputId": "2f15c7ba-e534-4093-fcdf-59797b375743"
      },
      "execution_count": 6,
      "outputs": [
        {
          "output_type": "stream",
          "name": "stdout",
          "text": [
            "<class 'pandas.core.frame.DataFrame'>\n",
            "Index: 3419 entries, 0 to 5410\n",
            "Data columns (total 12 columns):\n",
            " #   Column                   Non-Null Count  Dtype  \n",
            "---  ------                   --------------  -----  \n",
            " 0   ID                       3419 non-null   object \n",
            " 1   Age (years)              3419 non-null   object \n",
            " 2   Gender                   3419 non-null   object \n",
            " 3   Weight (kg)              3419 non-null   float64\n",
            " 4   Height (cm)              3419 non-null   float64\n",
            " 5   Dose (mg)                3419 non-null   float64\n",
            " 6   CYP2C9                   3419 non-null   object \n",
            " 7   VKORC1 (rs9923231; C/T)  3419 non-null   object \n",
            " 8   Gender_code              3419 non-null   int64  \n",
            " 9   CYP2C9_code              3419 non-null   int64  \n",
            " 10  VKORC1_code              3419 non-null   int64  \n",
            " 11  Age                      3419 non-null   float64\n",
            "dtypes: float64(4), int64(3), object(5)\n",
            "memory usage: 347.2+ KB\n",
            "None\n",
            "[0 1 2]\n"
          ]
        }
      ]
    },
    {
      "cell_type": "code",
      "source": [
        "file_name_csv= 'Preprocessed_data.csv'\n",
        "df.to_csv(file_name_csv, index=False)\n",
        "print(\"Dataset has been exported\")"
      ],
      "metadata": {
        "colab": {
          "base_uri": "https://localhost:8080/"
        },
        "id": "UwdDx2Huno6X",
        "outputId": "a4c0ddfd-ed8b-40f9-db18-05bbb9b8a26d"
      },
      "execution_count": 7,
      "outputs": [
        {
          "output_type": "stream",
          "name": "stdout",
          "text": [
            "Dataset has been exported\n"
          ]
        }
      ]
    }
  ]
}
